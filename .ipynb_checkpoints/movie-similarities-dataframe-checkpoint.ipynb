{
 "cells": [
  {
   "cell_type": "code",
   "execution_count": 1,
   "id": "586532c2-b2ca-441b-8f26-ed80836b4b9a",
   "metadata": {},
   "outputs": [],
   "source": [
    "import findspark\n",
    "import sys"
   ]
  },
  {
   "cell_type": "code",
   "execution_count": 2,
   "id": "18c69488-05ac-44f1-887d-99eae366f6a3",
   "metadata": {},
   "outputs": [],
   "source": [
    "findspark.init()"
   ]
  },
  {
   "cell_type": "code",
   "execution_count": 3,
   "id": "02f570db-151c-40bf-8986-dd70e2958631",
   "metadata": {},
   "outputs": [],
   "source": [
    "from pyspark.sql import SparkSession\n",
    "from pyspark.sql.types import StructType, StructField, StringType, IntegerType, LongType\n",
    "\n",
    "from pyspark.sql import functions as func"
   ]
  },
  {
   "cell_type": "code",
   "execution_count": 4,
   "id": "2fda0c13-1031-47fe-978f-b3a513d115f8",
   "metadata": {},
   "outputs": [
    {
     "name": "stderr",
     "output_type": "stream",
     "text": [
      "23/11/10 23:36:40 WARN Utils: Your hostname, bagjunhyeog-ui-noteubug.local resolves to a loopback address: 127.0.0.1; using 172.30.1.11 instead (on interface en0)\n",
      "23/11/10 23:36:40 WARN Utils: Set SPARK_LOCAL_IP if you need to bind to another address\n",
      "Setting default log level to \"WARN\".\n",
      "To adjust logging level use sc.setLogLevel(newLevel). For SparkR, use setLogLevel(newLevel).\n",
      "23/11/10 23:36:41 WARN NativeCodeLoader: Unable to load native-hadoop library for your platform... using builtin-java classes where applicable\n"
     ]
    },
    {
     "data": {
      "text/html": [
       "\n",
       "            <div>\n",
       "                <p><b>SparkSession - in-memory</b></p>\n",
       "                \n",
       "        <div>\n",
       "            <p><b>SparkContext</b></p>\n",
       "\n",
       "            <p><a href=\"http://172.30.1.11:4040\">Spark UI</a></p>\n",
       "\n",
       "            <dl>\n",
       "              <dt>Version</dt>\n",
       "                <dd><code>v3.5.0</code></dd>\n",
       "              <dt>Master</dt>\n",
       "                <dd><code>local[*]</code></dd>\n",
       "              <dt>AppName</dt>\n",
       "                <dd><code>MovieSimilarities</code></dd>\n",
       "            </dl>\n",
       "        </div>\n",
       "        \n",
       "            </div>\n",
       "        "
      ],
      "text/plain": [
       "<pyspark.sql.session.SparkSession at 0x10928f950>"
      ]
     },
     "execution_count": 4,
     "metadata": {},
     "output_type": "execute_result"
    }
   ],
   "source": [
    "spark = SparkSession.builder.appName(\"MovieSimilarities\").getOrCreate()\n",
    "spark"
   ]
  },
  {
   "cell_type": "code",
   "execution_count": 5,
   "id": "2466b9ee-b2a4-43f6-b2f2-a4bcf73688ef",
   "metadata": {},
   "outputs": [],
   "source": [
    "spark.sparkContext.setLogLevel(\"error\")"
   ]
  },
  {
   "cell_type": "code",
   "execution_count": 6,
   "id": "a6bb436e-039f-4e8c-875a-c836cac5420d",
   "metadata": {},
   "outputs": [],
   "source": [
    "movie_names_schema = StructType([\n",
    "    StructField(\"movieID\", IntegerType(), True),\n",
    "    StructField(\"movieTitle\", StringType(), True)\n",
    "])"
   ]
  },
  {
   "cell_type": "code",
   "execution_count": 7,
   "id": "429d7b71-6d37-4ca7-a82a-70a9c7e6ee2a",
   "metadata": {},
   "outputs": [],
   "source": [
    "movies_schema = StructType([\n",
    "    StructField(\"userID\", IntegerType(), True),\n",
    "    StructField(\"movieID\", IntegerType(), True),\n",
    "    StructField(\"rating\", IntegerType(), True),\n",
    "    StructField(\"timestamp\", LongType(), True)])"
   ]
  },
  {
   "cell_type": "code",
   "execution_count": 8,
   "id": "4aac90be-8a1b-4543-bcf0-7d668de5438a",
   "metadata": {},
   "outputs": [],
   "source": [
    "movie_names = spark.read \\\n",
    "    .option(\"sep\", \"|\") \\\n",
    "    .option(\"charset\", \"ISO-8859-1\") \\\n",
    "    .schema(movie_names_schema) \\\n",
    "    .csv(\"file:///Users/hotamul/SparkProjects/MovieRating/ml-100k/u.item\")"
   ]
  },
  {
   "cell_type": "code",
   "execution_count": 9,
   "id": "66ad3b44-7a77-4a26-b2e7-f1afeaecbfcc",
   "metadata": {},
   "outputs": [],
   "source": [
    "movies = spark.read \\\n",
    "    .option(\"sep\", \"\\t\") \\\n",
    "    .schema(movies_schema) \\\n",
    "    .csv(\"file:///Users/hotamul/SparkProjects/MovieRating/ml-100k/u.data\")\n"
   ]
  },
  {
   "cell_type": "code",
   "execution_count": 10,
   "id": "40a8d82c-aadc-420d-9c51-3a5573733373",
   "metadata": {},
   "outputs": [],
   "source": [
    "ratings = movies.select(\"userId\", \"movieId\", \"rating\")"
   ]
  },
  {
   "cell_type": "code",
   "execution_count": 11,
   "id": "5a5b0c6d-35c3-4017-bb4c-f6d270953bd4",
   "metadata": {},
   "outputs": [],
   "source": [
    "movie_pairs = ratings.alias(\"ratings1\") \\\n",
    "    .join(ratings.alias(\"ratings2\"), (func.col(\"ratings1.userId\") == func.col(\"ratings2.userId\")) \\\n",
    "          & (func.col(\"ratings1.movieId\") < func.col(\"ratings2.movieId\"))) \\\n",
    "    .select(func.col(\"ratings1.movieId\").alias(\"movie1\"),\n",
    "            func.col(\"ratings2.movieId\").alias(\"movie2\"),\n",
    "            func.col(\"ratings1.rating\").alias(\"rating1\"),\n",
    "            func.col(\"ratings2.rating\").alias(\"rating2\"))\n"
   ]
  },
  {
   "cell_type": "code",
   "execution_count": 12,
   "id": "3658eb77-7cf5-4819-aa08-f6675ff387b3",
   "metadata": {},
   "outputs": [],
   "source": [
    "def compute_cosine_similarity(spark, data):\n",
    "    # Compute xx, xy and yy columns\n",
    "    pair_scores = data \\\n",
    "        .withColumn(\"xx\", func.col(\"rating1\") * func.col(\"rating1\")) \\\n",
    "        .withColumn(\"yy\", func.col(\"rating2\") * func.col(\"rating2\")) \\\n",
    "        .withColumn(\"xy\", func.col(\"rating1\") * func.col(\"rating2\"))\n",
    "\n",
    "    # Compute numerator, denominator and numPairs columns\n",
    "    calculate_similarity = pair_scores \\\n",
    "        .groupBy(\"movie1\", \"movie2\") \\\n",
    "        .agg(\n",
    "        func.sum(func.col(\"xy\")).alias(\"numerator\"),\n",
    "        (func.sqrt(func.sum(func.col(\"xx\"))) * func.sqrt(func.sum(func.col(\"yy\")))).alias(\"denominator\"),\n",
    "        func.count(func.col(\"xy\")).alias(\"numPairs\")\n",
    "    )\n",
    "\n",
    "    # Calculate score and select only needed columns (movie1, movie2, score, numPairs)\n",
    "    result = calculate_similarity \\\n",
    "        .withColumn(\"score\",\n",
    "                    func.when(func.col(\"denominator\") != 0, func.col(\"numerator\") / func.col(\"denominator\")) \\\n",
    "                    .otherwise(0)\n",
    "                    ).select(\"movie1\", \"movie2\", \"score\", \"numPairs\")\n",
    "\n",
    "    return result\n"
   ]
  },
  {
   "cell_type": "code",
   "execution_count": 13,
   "id": "1af3c89d-e8a5-43af-8572-58676e675b7d",
   "metadata": {},
   "outputs": [],
   "source": [
    "movie_pair_similarities = compute_cosine_similarity(spark, movie_pairs).cache()"
   ]
  },
  {
   "cell_type": "code",
   "execution_count": 14,
   "id": "84de7ec7-e503-48d3-b34e-24b68a20a166",
   "metadata": {},
   "outputs": [],
   "source": [
    "def get_movie_name(movie_names, movie_id):\n",
    "    result = movie_names.filter(func.col(\"movieID\") == movie_id) \\\n",
    "        .select(\"movieTitle\").collect()[0]\n",
    "\n",
    "    return result[0]\n"
   ]
  },
  {
   "cell_type": "code",
   "execution_count": 15,
   "id": "52240799-b3ce-4f74-82b8-6582781a0ee4",
   "metadata": {},
   "outputs": [
    {
     "name": "stderr",
     "output_type": "stream",
     "text": [
      "                                                                                \r"
     ]
    },
    {
     "name": "stdout",
     "output_type": "stream",
     "text": [
      "Top 10 similar movies for Star Wars (1977)\n",
      "Empire Strikes Back, The (1980):\n",
      "\tscore: 0.99\n",
      "\tstrength: 345\n",
      "Return of the Jedi (1983):\n",
      "\tscore: 0.986\n",
      "\tstrength: 480\n",
      "Raiders of the Lost Ark (1981):\n",
      "\tscore: 0.982\n",
      "\tstrength: 380\n",
      "20,000 Leagues Under the Sea (1954):\n",
      "\tscore: 0.979\n",
      "\tstrength: 68\n",
      "12 Angry Men (1957):\n",
      "\tscore: 0.978\n",
      "\tstrength: 109\n",
      "Close Shave, A (1995):\n",
      "\tscore: 0.978\n",
      "\tstrength: 92\n",
      "African Queen, The (1951):\n",
      "\tscore: 0.976\n",
      "\tstrength: 138\n",
      "Sting, The (1973):\n",
      "\tscore: 0.975\n",
      "\tstrength: 204\n",
      "Wrong Trousers, The (1993):\n",
      "\tscore: 0.975\n",
      "\tstrength: 103\n",
      "Wallace & Gromit: The Best of Aardman Animation (1996):\n",
      "\tscore: 0.974\n",
      "\tstrength: 58\n"
     ]
    }
   ],
   "source": [
    "\n",
    "score_threshold = 0.97\n",
    "co_occurrence_threshold = 50.0\n",
    "\n",
    "movie_id = 50\n",
    "\n",
    "# Filter for movies with this sim that are \"good\" as defined by\n",
    "# our quality thresholds above\n",
    "filtered_results = movie_pair_similarities.filter(\n",
    "    ((func.col(\"movie1\") == movie_id) | (func.col(\"movie2\") == movie_id)) &\n",
    "    (func.col(\"score\") > score_threshold) & (func.col(\"numPairs\") > co_occurrence_threshold))\n",
    "\n",
    "# Sort by quality score.\n",
    "results = filtered_results.sort(func.col(\"score\").desc()).take(10)\n",
    "\n",
    "print(\"Top 10 similar movies for \" + get_movie_name(movie_names, movie_id))\n",
    "\n",
    "for result in results:\n",
    "    # Display the similarity result that isn't the movie we're looking at\n",
    "    similar_movie_id = result.movie1\n",
    "    if similar_movie_id == movie_id:\n",
    "        similar_movie_id = result.movie2\n",
    "\n",
    "    print(f\"{get_movie_name(movie_names, similar_movie_id)}:\")\n",
    "    print(f\"\\tscore: {str(round(result.score, 3))}\")\n",
    "    print(f\"\\tstrength: {str(result.numPairs)}\")\n"
   ]
  },
  {
   "cell_type": "code",
   "execution_count": 21,
   "id": "3fe5fb69-fdda-400a-aac5-c1aadb23e85e",
   "metadata": {},
   "outputs": [],
   "source": [
    "spark.stop()"
   ]
  },
  {
   "cell_type": "code",
   "execution_count": null,
   "id": "f05e236e-2d8f-464d-a7a7-828247cb8791",
   "metadata": {},
   "outputs": [],
   "source": []
  }
 ],
 "metadata": {
  "kernelspec": {
   "display_name": "Python 3 (ipykernel)",
   "language": "python",
   "name": "python3"
  },
  "language_info": {
   "codemirror_mode": {
    "name": "ipython",
    "version": 3
   },
   "file_extension": ".py",
   "mimetype": "text/x-python",
   "name": "python",
   "nbconvert_exporter": "python",
   "pygments_lexer": "ipython3",
   "version": "3.12.0"
  }
 },
 "nbformat": 4,
 "nbformat_minor": 5
}
