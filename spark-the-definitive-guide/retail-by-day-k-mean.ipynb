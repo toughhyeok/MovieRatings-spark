{
 "cells": [
  {
   "cell_type": "code",
   "execution_count": 1,
   "id": "2efd0d99-16bf-4365-a313-05acde988f3e",
   "metadata": {},
   "outputs": [],
   "source": [
    "import findspark\n",
    "from pyspark.sql import SparkSession"
   ]
  },
  {
   "cell_type": "code",
   "execution_count": 2,
   "id": "51391636-7313-462c-abd4-ce4d09acbfff",
   "metadata": {},
   "outputs": [
    {
     "name": "stderr",
     "output_type": "stream",
     "text": [
      "23/11/15 00:19:14 WARN Utils: Your hostname, bagjunhyeog-ui-noteubug.local resolves to a loopback address: 127.0.0.1; using 172.30.1.11 instead (on interface en0)\n",
      "23/11/15 00:19:14 WARN Utils: Set SPARK_LOCAL_IP if you need to bind to another address\n",
      "Setting default log level to \"WARN\".\n",
      "To adjust logging level use sc.setLogLevel(newLevel). For SparkR, use setLogLevel(newLevel).\n",
      "23/11/15 00:19:14 WARN NativeCodeLoader: Unable to load native-hadoop library for your platform... using builtin-java classes where applicable\n"
     ]
    }
   ],
   "source": [
    "findspark.init()\n",
    "spark = SparkSession.builder.appName(\"RetailByDayStructuredStreaming\").getOrCreate()\n",
    "spark.conf.set(\"spark.sql.shuffle.partitions\", \"5\")"
   ]
  },
  {
   "cell_type": "code",
   "execution_count": 3,
   "id": "3f197199-1a09-4585-b10f-14238aae0d3a",
   "metadata": {},
   "outputs": [],
   "source": [
    "spark.sparkContext.setLogLevel(\"error\")"
   ]
  },
  {
   "cell_type": "code",
   "execution_count": 4,
   "id": "31e2f7e0-293e-4e28-8ef1-100fe131b2bc",
   "metadata": {},
   "outputs": [
    {
     "name": "stderr",
     "output_type": "stream",
     "text": [
      "                                                                                \r"
     ]
    }
   ],
   "source": [
    "staticDataFrame = spark.read.format(\"csv\")\\\n",
    "    .option(\"header\", \"true\")\\\n",
    "    .option(\"inferSchema\", \"true\")\\\n",
    "    .load(\"./data/retail-data/by-day/*.csv\")"
   ]
  },
  {
   "cell_type": "code",
   "execution_count": 5,
   "id": "8a61504f-a8c3-4494-8d93-3df01fdc1af6",
   "metadata": {},
   "outputs": [],
   "source": [
    "from pyspark.sql import functions as func"
   ]
  },
  {
   "cell_type": "code",
   "execution_count": 6,
   "id": "d4fb2042-721d-40ad-9173-4e19837886a5",
   "metadata": {},
   "outputs": [
    {
     "name": "stdout",
     "output_type": "stream",
     "text": [
      "root\n",
      " |-- InvoiceNo: string (nullable = true)\n",
      " |-- StockCode: string (nullable = true)\n",
      " |-- Description: string (nullable = true)\n",
      " |-- Quantity: integer (nullable = true)\n",
      " |-- InvoiceDate: timestamp (nullable = true)\n",
      " |-- UnitPrice: double (nullable = true)\n",
      " |-- CustomerID: double (nullable = true)\n",
      " |-- Country: string (nullable = true)\n",
      "\n"
     ]
    }
   ],
   "source": [
    "staticDataFrame.printSchema()"
   ]
  },
  {
   "cell_type": "code",
   "execution_count": 7,
   "id": "92f8b84b-3ea4-4de0-a1ff-59c190a302a0",
   "metadata": {},
   "outputs": [],
   "source": [
    "preppedDataFrame = staticDataFrame \\\n",
    "    .na.fill(0) \\\n",
    "    .withColumn(\"day_of_week\", func.date_format(func.col(\"InvoiceDate\"), \"EEEE\")) \\\n",
    "    .coalesce(5)"
   ]
  },
  {
   "cell_type": "code",
   "execution_count": 8,
   "id": "abf72863-4f41-41ba-85d0-74ee6837a73b",
   "metadata": {},
   "outputs": [],
   "source": [
    "trainDataFrame = preppedDataFrame \\\n",
    "    .where(\"InvoiceDate < '2011-07-01'\")\n",
    "testDataFrame = preppedDataFrame \\\n",
    "    .where(\"InvoiceDate >= '2011-07-01'\")"
   ]
  },
  {
   "cell_type": "code",
   "execution_count": 9,
   "id": "74698871-a9dc-4cad-bff2-7bcb5415dba3",
   "metadata": {},
   "outputs": [
    {
     "name": "stderr",
     "output_type": "stream",
     "text": [
      "                                                                                \r"
     ]
    },
    {
     "data": {
      "text/plain": [
       "245903"
      ]
     },
     "execution_count": 9,
     "metadata": {},
     "output_type": "execute_result"
    }
   ],
   "source": [
    "trainDataFrame.count()"
   ]
  },
  {
   "cell_type": "code",
   "execution_count": 10,
   "id": "a3a19e23-9c5e-418e-8c83-13466df93aa2",
   "metadata": {},
   "outputs": [
    {
     "data": {
      "text/plain": [
       "296006"
      ]
     },
     "execution_count": 10,
     "metadata": {},
     "output_type": "execute_result"
    }
   ],
   "source": [
    "testDataFrame.count()"
   ]
  },
  {
   "cell_type": "markdown",
   "id": "9c61aab5-76c7-4bfe-9902-20d692d9d48f",
   "metadata": {},
   "source": [
    "- Spark MLLib은 일반적인 트랜스포메이션을 자동화하는 다양한 트랜스포메이션을 제공\n",
    "- 그 중 하나가 `StringIndexer`"
   ]
  },
  {
   "cell_type": "code",
   "execution_count": 11,
   "id": "0cc8693a-e023-4981-aec4-06050ad081b5",
   "metadata": {},
   "outputs": [],
   "source": [
    "from pyspark.ml.feature import StringIndexer"
   ]
  },
  {
   "cell_type": "code",
   "execution_count": 12,
   "id": "4222de7f-afaa-4468-ac1c-dd0524e52763",
   "metadata": {},
   "outputs": [],
   "source": [
    "indexer = StringIndexer() \\\n",
    "    .setInputCol(\"day_of_week\") \\\n",
    "    .setOutputCol(\"day_of_week_index\")"
   ]
  },
  {
   "cell_type": "markdown",
   "id": "da3918ed-ea64-48cd-80ea-a0d1a5a5a735",
   "metadata": {},
   "source": [
    "- 위 예제는 요일 (`day_of_week`) 을 수치형으로 반환한다.\n",
    "  > 예를 들어 토요일을 6으로 월요일을 1로\n",
    "- 번호 지정 체계는 수치로 표현되어 토요일이 월요일보다 더 크다는 것을 의마하므로 잘못된 방식이다.\n",
    "- 이를 보완하기 위해 `OneHotEncoder`를 사용 해서 각 값을 자체 컬럼으로 인코딩해야 한다.\n",
    "- 이렇게 하면 특정 요일인지 아닌지 `Boolean` 타입으로 나타낼 수 있다."
   ]
  },
  {
   "cell_type": "code",
   "execution_count": 13,
   "id": "6dc1c788-6988-4cfc-9b5a-38cb03fe1228",
   "metadata": {},
   "outputs": [],
   "source": [
    "from pyspark.ml.feature import OneHotEncoder"
   ]
  },
  {
   "cell_type": "code",
   "execution_count": 14,
   "id": "f3b8b3f5-28ed-4629-8c47-f35330dfbf5b",
   "metadata": {},
   "outputs": [],
   "source": [
    "encoder = OneHotEncoder() \\\n",
    "    .setInputCol(\"day_of_week_index\") \\\n",
    "    .setOutputCol(\"day_of_week_encoded\")"
   ]
  },
  {
   "cell_type": "markdown",
   "id": "a6b469fb-ad04-4120-895d-15cc17301e97",
   "metadata": {},
   "source": [
    "- 스파크의 모든 머신러닝 알고리즘은 수치형 벡터 타입을 입력으로 사용한다."
   ]
  },
  {
   "cell_type": "code",
   "execution_count": 15,
   "id": "bc29f4eb-af70-4dab-af8b-711967da2d4e",
   "metadata": {},
   "outputs": [],
   "source": [
    "from pyspark.ml.feature import VectorAssembler"
   ]
  },
  {
   "cell_type": "code",
   "execution_count": 16,
   "id": "757997c2-b2e8-4f76-8bae-94f8a8c61c44",
   "metadata": {},
   "outputs": [],
   "source": [
    "vectorAssenbler = VectorAssembler() \\\n",
    "    .setInputCols([\"UnitPrice\", \"Quantity\", \"day_of_week_encoded\"]) \\\n",
    "    .setOutputCol(\"features\")"
   ]
  },
  {
   "cell_type": "markdown",
   "id": "a4d37c90-42c0-4bbf-8ebb-c2d38fab31a9",
   "metadata": {},
   "source": [
    "- 위 예제는 세 가지 핵심 특징인 가격(`UnitPrice`), 수량(`Quantity`), 특정 날짜의 요일(`day_ofweek_encoded`)을 가지고 있다.\n",
    "- 다음은 나중에 입력값으로 들어올 데이터가 같은 프로세스를 거쳐 변환되도록 파이프라인을 설정하는 예제이다.\n"
   ]
  },
  {
   "cell_type": "code",
   "execution_count": 17,
   "id": "180aecff-cd69-42c6-ad3f-b8e9900386fe",
   "metadata": {},
   "outputs": [],
   "source": [
    "from pyspark.ml import Pipeline"
   ]
  },
  {
   "cell_type": "code",
   "execution_count": 18,
   "id": "f443d0ae-2952-4649-849a-0b650691cf2d",
   "metadata": {},
   "outputs": [],
   "source": [
    "transformationPipeline = Pipeline() \\\n",
    "    .setStages([indexer, encoder, vectorAssenbler])"
   ]
  },
  {
   "cell_type": "markdown",
   "id": "22a420ea-0f69-4786-811f-f11a5e7b0825",
   "metadata": {},
   "source": [
    "- 학습 준비 과정은 두 단계로 이루어진다.\n",
    "- 우선 transformer 를 데이터셋에 fit 시켜야 한다.\n",
    "- 기본적으로 `StringIndelxer`는 인덱싱할 고윳값의 수를 알아야 한다.\n",
    "- 고윳값을 수를 알 수 있다면 인코딩을 매우 쉽게 할 수 있지만, 만약 알 수 없다면 컬럼에 있는 모든 고윳값을 조사하고 인덱싱해야 한다."
   ]
  },
  {
   "cell_type": "code",
   "execution_count": 19,
   "id": "2f4b9c1e-3d45-4f65-9ef6-bd000ba310c2",
   "metadata": {},
   "outputs": [
    {
     "name": "stderr",
     "output_type": "stream",
     "text": [
      "                                                                                \r"
     ]
    }
   ],
   "source": [
    "fittedPipeline = transformationPipeline.fit(trainDataFrame)"
   ]
  },
  {
   "cell_type": "code",
   "execution_count": 20,
   "id": "6ae3a2a9-44d0-48ba-9edd-c45990500568",
   "metadata": {},
   "outputs": [],
   "source": [
    "transformedTraining = fittedPipeline.transform(trainDataFrame)"
   ]
  },
  {
   "cell_type": "markdown",
   "id": "c639ca8e-874f-4c74-8abf-8bc141bb4b57",
   "metadata": {},
   "source": [
    "- 데이터 캐싱을 이용해 중간 변환된 데이터셋의 복사본을 메모리로 저장해 전체 파이프라인을 재실행하는 것 보다 훨씬 빠르게 반복적으로 데이터셋에 접근할 수 있다."
   ]
  },
  {
   "cell_type": "code",
   "execution_count": 21,
   "id": "9b1bb41a-ed0d-4bec-a707-a0cdf34af9f4",
   "metadata": {},
   "outputs": [
    {
     "data": {
      "text/plain": [
       "DataFrame[InvoiceNo: string, StockCode: string, Description: string, Quantity: int, InvoiceDate: timestamp, UnitPrice: double, CustomerID: double, Country: string, day_of_week: string, day_of_week_index: double, day_of_week_encoded: vector, features: vector]"
      ]
     },
     "execution_count": 21,
     "metadata": {},
     "output_type": "execute_result"
    }
   ],
   "source": [
    "transformedTraining.cache()"
   ]
  },
  {
   "cell_type": "code",
   "execution_count": 22,
   "id": "321a6b48-754e-4bb2-a483-d60e8025fb6e",
   "metadata": {},
   "outputs": [],
   "source": [
    "from pyspark.ml.clustering import KMeans"
   ]
  },
  {
   "cell_type": "code",
   "execution_count": 23,
   "id": "1261784d-c3cb-4d56-8d72-1d2c512cc34d",
   "metadata": {},
   "outputs": [],
   "source": [
    "kmeans = KMeans() \\\n",
    "    .setK(20) \\\n",
    "    .setSeed(1)"
   ]
  },
  {
   "cell_type": "code",
   "execution_count": 24,
   "id": "563f219f-0212-4e28-99e4-b3194338b79a",
   "metadata": {},
   "outputs": [
    {
     "name": "stderr",
     "output_type": "stream",
     "text": [
      "                                                                                \r"
     ]
    }
   ],
   "source": [
    "kmModel = kmeans.fit(transformedTraining)"
   ]
  },
  {
   "cell_type": "code",
   "execution_count": 27,
   "id": "3ec0eba2-d671-4ec5-a3b2-4aeda9391e99",
   "metadata": {},
   "outputs": [],
   "source": [
    "transformedTest = fittedPipeline.transform(testDataFrame)"
   ]
  },
  {
   "cell_type": "code",
   "execution_count": 29,
   "id": "0449311a-83ae-4466-9e8e-8be50462b69a",
   "metadata": {},
   "outputs": [
    {
     "data": {
      "text/html": [
       "\n",
       "            <div>\n",
       "                <p><b>SparkSession - in-memory</b></p>\n",
       "                \n",
       "        <div>\n",
       "            <p><b>SparkContext</b></p>\n",
       "\n",
       "            <p><a href=\"http://172.30.1.11:4040\">Spark UI</a></p>\n",
       "\n",
       "            <dl>\n",
       "              <dt>Version</dt>\n",
       "                <dd><code>v3.5.0</code></dd>\n",
       "              <dt>Master</dt>\n",
       "                <dd><code>local[*]</code></dd>\n",
       "              <dt>AppName</dt>\n",
       "                <dd><code>RetailByDayStructuredStreaming</code></dd>\n",
       "            </dl>\n",
       "        </div>\n",
       "        \n",
       "            </div>\n",
       "        "
      ],
      "text/plain": [
       "<pyspark.sql.session.SparkSession at 0x10467bda0>"
      ]
     },
     "execution_count": 29,
     "metadata": {},
     "output_type": "execute_result"
    }
   ],
   "source": [
    "spark"
   ]
  },
  {
   "cell_type": "code",
   "execution_count": null,
   "id": "2bcfb3eb-1435-4792-ad16-ab385ab13673",
   "metadata": {},
   "outputs": [],
   "source": []
  }
 ],
 "metadata": {
  "kernelspec": {
   "display_name": "Python 3 (ipykernel)",
   "language": "python",
   "name": "python3"
  },
  "language_info": {
   "codemirror_mode": {
    "name": "ipython",
    "version": 3
   },
   "file_extension": ".py",
   "mimetype": "text/x-python",
   "name": "python",
   "nbconvert_exporter": "python",
   "pygments_lexer": "ipython3",
   "version": "3.12.0"
  }
 },
 "nbformat": 4,
 "nbformat_minor": 5
}
